{
 "cells": [
  {
   "cell_type": "code",
   "execution_count": 2,
   "id": "ac6ac07a",
   "metadata": {},
   "outputs": [],
   "source": [
    "#Q1\n",
    "#There are two values of the boolean data type which are True and False but in binary they are represented by 0 and 1."
   ]
  },
  {
   "cell_type": "code",
   "execution_count": 3,
   "id": "bcf265a0",
   "metadata": {},
   "outputs": [
    {
     "data": {
      "text/plain": [
       "True"
      ]
     },
     "execution_count": 3,
     "metadata": {},
     "output_type": "execute_result"
    }
   ],
   "source": [
    "1==1"
   ]
  },
  {
   "cell_type": "code",
   "execution_count": 4,
   "id": "adb93906",
   "metadata": {},
   "outputs": [
    {
     "data": {
      "text/plain": [
       "False"
      ]
     },
     "execution_count": 4,
     "metadata": {},
     "output_type": "execute_result"
    }
   ],
   "source": [
    "2<1"
   ]
  },
  {
   "cell_type": "code",
   "execution_count": 5,
   "id": "4673cec4",
   "metadata": {},
   "outputs": [],
   "source": [
    "#Q2\n",
    "#There are three different type of boolean operators\n",
    "#1-and\n",
    "#2-or\n",
    "#3-not"
   ]
  },
  {
   "cell_type": "code",
   "execution_count": 6,
   "id": "6cf09151",
   "metadata": {},
   "outputs": [],
   "source": [
    "#Q3- 1 stands for True and 0 stands for false\n",
    "#1 and 0 = 0\n",
    "#1 and 1 = 1\n",
    "#0 and 0 = 0\n",
    "#0 and 1 = 0\n",
    "\n",
    "#1 or 1 = 1\n",
    "#1 or 0 = 1\n",
    "#0 or 1 = 1\n",
    "#0 or 0 = 0\n"
   ]
  },
  {
   "cell_type": "code",
   "execution_count": 7,
   "id": "7d3f2f19",
   "metadata": {},
   "outputs": [
    {
     "data": {
      "text/plain": [
       "False"
      ]
     },
     "execution_count": 7,
     "metadata": {},
     "output_type": "execute_result"
    }
   ],
   "source": [
    "#Q4\n",
    "(5>4)and(3==4)"
   ]
  },
  {
   "cell_type": "code",
   "execution_count": 8,
   "id": "f907e703",
   "metadata": {},
   "outputs": [
    {
     "data": {
      "text/plain": [
       "False"
      ]
     },
     "execution_count": 8,
     "metadata": {},
     "output_type": "execute_result"
    }
   ],
   "source": [
    "not(5>4)"
   ]
  },
  {
   "cell_type": "code",
   "execution_count": 9,
   "id": "3adf66a2",
   "metadata": {},
   "outputs": [
    {
     "data": {
      "text/plain": [
       "True"
      ]
     },
     "execution_count": 9,
     "metadata": {},
     "output_type": "execute_result"
    }
   ],
   "source": [
    "(5>4)or(3==5)"
   ]
  },
  {
   "cell_type": "code",
   "execution_count": 10,
   "id": "d53de973",
   "metadata": {},
   "outputs": [
    {
     "data": {
      "text/plain": [
       "False"
      ]
     },
     "execution_count": 10,
     "metadata": {},
     "output_type": "execute_result"
    }
   ],
   "source": [
    "not((5>4)or(3==5))"
   ]
  },
  {
   "cell_type": "code",
   "execution_count": 11,
   "id": "ea0a4558",
   "metadata": {},
   "outputs": [
    {
     "data": {
      "text/plain": [
       "False"
      ]
     },
     "execution_count": 11,
     "metadata": {},
     "output_type": "execute_result"
    }
   ],
   "source": [
    "(True and True) and (True==False)"
   ]
  },
  {
   "cell_type": "code",
   "execution_count": 12,
   "id": "f9bf7894",
   "metadata": {},
   "outputs": [
    {
     "data": {
      "text/plain": [
       "True"
      ]
     },
     "execution_count": 12,
     "metadata": {},
     "output_type": "execute_result"
    }
   ],
   "source": [
    "(not False) or (not True)"
   ]
  },
  {
   "cell_type": "code",
   "execution_count": 13,
   "id": "cf6622f3",
   "metadata": {},
   "outputs": [],
   "source": [
    "#Q5 \n",
    "#There are six comparison operator\n",
    "#1= Equal to operator\n",
    "#2=less than operator\n",
    "#3=greater than operator\n",
    "#4=less than equal to operator\n",
    "#5=greator than equal to operator\n",
    "#6=not equal to operator"
   ]
  },
  {
   "cell_type": "code",
   "execution_count": 14,
   "id": "d93978f6",
   "metadata": {},
   "outputs": [],
   "source": [
    "#Q6\n",
    "#Equal to (==) is a comparision operator where we see wether the given condition is true or not and Assignment operator (=) is used for assigning values to a variable\n"
   ]
  },
  {
   "cell_type": "code",
   "execution_count": 15,
   "id": "a8ae68fa",
   "metadata": {},
   "outputs": [
    {
     "data": {
      "text/plain": [
       "False"
      ]
     },
     "execution_count": 15,
     "metadata": {},
     "output_type": "execute_result"
    }
   ],
   "source": [
    "a=10 #assignment operator used for assigning 10 as a value to varible a\n",
    "b=20\n",
    "a==b# equal to operator is used to check condition "
   ]
  },
  {
   "cell_type": "code",
   "execution_count": 17,
   "id": "d41d4045",
   "metadata": {},
   "outputs": [
    {
     "name": "stdout",
     "output_type": "stream",
     "text": [
      "ham\n",
      "spam\n",
      "spam\n"
     ]
    }
   ],
   "source": [
    "#Q7\n",
    "spam=0 #we are assigning zero as a value to variable spam\n",
    "if spam==10: # we are comapring spam which is 0 to 10 if it is true then it will execute the body otherwise not \n",
    "    print('eggs')\n",
    "if spam>5: # if spam is greator than 5 then it print bacon but unfortunately it is not \n",
    "    print('bacon')\n",
    "else: # if both the above condition are not true then it will execute else statement\n",
    "    print('ham')\n",
    "    print('spam')\n",
    "    print('spam')"
   ]
  },
  {
   "cell_type": "code",
   "execution_count": 46,
   "id": "6417351d",
   "metadata": {
    "scrolled": true
   },
   "outputs": [
    {
     "name": "stdout",
     "output_type": "stream",
     "text": [
      "enter the value u want to assigned to spam--3\n",
      "Greetings!\n"
     ]
    }
   ],
   "source": [
    "#q8\n",
    "spam=int(input('enter the value u want to assigned to spam--'))\n",
    "if spam == 1:\n",
    "    print('Hello')\n",
    "elif spam == 2:\n",
    "    print('Howdy')\n",
    "else:\n",
    "    print('Greetings!')\n"
   ]
  },
  {
   "cell_type": "code",
   "execution_count": 47,
   "id": "42aa31b6",
   "metadata": {},
   "outputs": [],
   "source": [
    "#q9\n",
    "# we will go to Kernel and then we will restart it "
   ]
  },
  {
   "cell_type": "code",
   "execution_count": 48,
   "id": "6bf33556",
   "metadata": {},
   "outputs": [
    {
     "name": "stdout",
     "output_type": "stream",
     "text": [
      "1\n",
      "2\n",
      "3\n",
      "4\n",
      "5\n"
     ]
    }
   ],
   "source": [
    "#q10\n",
    "l=[1,2,3,4,5,6,7,8,9]\n",
    "for i  in l:\n",
    "    if i==6:\n",
    "        break\n",
    "    print(i)"
   ]
  },
  {
   "cell_type": "code",
   "execution_count": 49,
   "id": "f09b17d9",
   "metadata": {},
   "outputs": [
    {
     "name": "stdout",
     "output_type": "stream",
     "text": [
      "1\n",
      "2\n",
      "3\n",
      "4\n",
      "5\n",
      "7\n",
      "8\n",
      "9\n"
     ]
    }
   ],
   "source": [
    "l=[1,2,3,4,5,6,7,8,9]\n",
    "for i  in l:\n",
    "    if i==6:\n",
    "        continue\n",
    "    print(i)"
   ]
  },
  {
   "cell_type": "code",
   "execution_count": 50,
   "id": "f07d8939",
   "metadata": {},
   "outputs": [],
   "source": [
    "# As we can see if we use break statement  it will exit the loop if the condition is true\n",
    "# In second example we used continue statement and it will continue the loop without breaking it "
   ]
  },
  {
   "cell_type": "code",
   "execution_count": 53,
   "id": "fa89d9e0",
   "metadata": {},
   "outputs": [
    {
     "name": "stdout",
     "output_type": "stream",
     "text": [
      "0\n",
      "1\n",
      "2\n",
      "3\n",
      "4\n",
      "5\n",
      "6\n",
      "7\n",
      "8\n",
      "9\n"
     ]
    }
   ],
   "source": [
    "#q11 \n",
    "#There is no difference in all three statement but it is a different ways of writing range like in third one we give the jump count \n",
    "for i in range(0,10,1):\n",
    "    print(i)"
   ]
  },
  {
   "cell_type": "code",
   "execution_count": 54,
   "id": "15e4a1ac",
   "metadata": {},
   "outputs": [
    {
     "name": "stdout",
     "output_type": "stream",
     "text": [
      "0\n",
      "1\n",
      "2\n",
      "3\n",
      "4\n",
      "5\n",
      "6\n",
      "7\n",
      "8\n",
      "9\n"
     ]
    }
   ],
   "source": [
    "for i in range(10):\n",
    "    print(i)"
   ]
  },
  {
   "cell_type": "code",
   "execution_count": 55,
   "id": "355af0a8",
   "metadata": {},
   "outputs": [
    {
     "name": "stdout",
     "output_type": "stream",
     "text": [
      "0\n",
      "1\n",
      "2\n",
      "3\n",
      "4\n",
      "5\n",
      "6\n",
      "7\n",
      "8\n",
      "9\n"
     ]
    }
   ],
   "source": [
    "for i in range(0,10):\n",
    "    print(i)"
   ]
  },
  {
   "cell_type": "code",
   "execution_count": 57,
   "id": "253a5078",
   "metadata": {},
   "outputs": [
    {
     "name": "stdout",
     "output_type": "stream",
     "text": [
      "0\n",
      "1\n",
      "2\n",
      "3\n",
      "4\n",
      "5\n",
      "6\n",
      "7\n",
      "8\n",
      "9\n",
      "10\n"
     ]
    }
   ],
   "source": [
    "#Q12\n",
    "for i in range(0,11):\n",
    "    print(i)"
   ]
  },
  {
   "cell_type": "code",
   "execution_count": 1,
   "id": "1cb6db39",
   "metadata": {},
   "outputs": [
    {
     "name": "stdout",
     "output_type": "stream",
     "text": [
      "0\n",
      "1\n",
      "2\n",
      "3\n",
      "4\n",
      "5\n",
      "6\n",
      "7\n",
      "8\n",
      "9\n",
      "10\n"
     ]
    }
   ],
   "source": [
    "a=0\n",
    "while a<=10:\n",
    "    print(a)\n",
    "    a=a+1"
   ]
  },
  {
   "cell_type": "code",
   "execution_count": 2,
   "id": "444358d0",
   "metadata": {},
   "outputs": [],
   "source": [
    "#Q13\n",
    "#spam.(bacon()) after importing spam we can call bacon() module through this way "
   ]
  },
  {
   "cell_type": "code",
   "execution_count": null,
   "id": "0c958a70",
   "metadata": {},
   "outputs": [],
   "source": []
  }
 ],
 "metadata": {
  "kernelspec": {
   "display_name": "Python 3 (ipykernel)",
   "language": "python",
   "name": "python3"
  },
  "language_info": {
   "codemirror_mode": {
    "name": "ipython",
    "version": 3
   },
   "file_extension": ".py",
   "mimetype": "text/x-python",
   "name": "python",
   "nbconvert_exporter": "python",
   "pygments_lexer": "ipython3",
   "version": "3.9.7"
  }
 },
 "nbformat": 4,
 "nbformat_minor": 5
}
